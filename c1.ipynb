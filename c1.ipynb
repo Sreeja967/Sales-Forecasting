{
 "cells": [
  {
   "cell_type": "code",
   "execution_count": 1,
   "id": "62e0cb61-b2a4-410d-ab9d-1c2bfa646716",
   "metadata": {},
   "outputs": [],
   "source": [
    "import pandas as pd"
   ]
  },
  {
   "cell_type": "code",
   "execution_count": 2,
   "id": "1f8155d9-3050-452a-b0ec-5f4b1fc602b3",
   "metadata": {},
   "outputs": [],
   "source": [
    "df=pd.read_csv('sales_prediction.csv')"
   ]
  },
  {
   "cell_type": "code",
   "execution_count": 3,
   "id": "69ec9db5-85f8-4e53-989d-782fe7c8784b",
   "metadata": {},
   "outputs": [
    {
     "data": {
      "text/html": [
       "<div>\n",
       "<style scoped>\n",
       "    .dataframe tbody tr th:only-of-type {\n",
       "        vertical-align: middle;\n",
       "    }\n",
       "\n",
       "    .dataframe tbody tr th {\n",
       "        vertical-align: top;\n",
       "    }\n",
       "\n",
       "    .dataframe thead th {\n",
       "        text-align: right;\n",
       "    }\n",
       "</style>\n",
       "<table border=\"1\" class=\"dataframe\">\n",
       "  <thead>\n",
       "    <tr style=\"text-align: right;\">\n",
       "      <th></th>\n",
       "      <th>Item_Identifier</th>\n",
       "      <th>Item_Weight</th>\n",
       "      <th>Item_Fat_Content</th>\n",
       "      <th>Item_Visibility</th>\n",
       "      <th>Item_Type</th>\n",
       "      <th>Item_MRP</th>\n",
       "      <th>Outlet_Identifier</th>\n",
       "      <th>Outlet_Establishment_Year</th>\n",
       "      <th>Outlet_Size</th>\n",
       "      <th>Outlet_Location_Type</th>\n",
       "      <th>Outlet_Type</th>\n",
       "      <th>Item_Outlet_Sales</th>\n",
       "    </tr>\n",
       "  </thead>\n",
       "  <tbody>\n",
       "    <tr>\n",
       "      <th>0</th>\n",
       "      <td>FDA15</td>\n",
       "      <td>9.30</td>\n",
       "      <td>Low Fat</td>\n",
       "      <td>0.016047</td>\n",
       "      <td>Dairy</td>\n",
       "      <td>249.8092</td>\n",
       "      <td>OUT049</td>\n",
       "      <td>1999</td>\n",
       "      <td>Medium</td>\n",
       "      <td>Tier 1</td>\n",
       "      <td>Supermarket Type1</td>\n",
       "      <td>3735.1380</td>\n",
       "    </tr>\n",
       "    <tr>\n",
       "      <th>1</th>\n",
       "      <td>DRC01</td>\n",
       "      <td>5.92</td>\n",
       "      <td>Regular</td>\n",
       "      <td>0.019278</td>\n",
       "      <td>Soft Drinks</td>\n",
       "      <td>48.2692</td>\n",
       "      <td>OUT018</td>\n",
       "      <td>2009</td>\n",
       "      <td>Medium</td>\n",
       "      <td>Tier 3</td>\n",
       "      <td>Supermarket Type2</td>\n",
       "      <td>443.4228</td>\n",
       "    </tr>\n",
       "    <tr>\n",
       "      <th>2</th>\n",
       "      <td>FDN15</td>\n",
       "      <td>17.50</td>\n",
       "      <td>Low Fat</td>\n",
       "      <td>0.016760</td>\n",
       "      <td>Meat</td>\n",
       "      <td>141.6180</td>\n",
       "      <td>OUT049</td>\n",
       "      <td>1999</td>\n",
       "      <td>Medium</td>\n",
       "      <td>Tier 1</td>\n",
       "      <td>Supermarket Type1</td>\n",
       "      <td>2097.2700</td>\n",
       "    </tr>\n",
       "    <tr>\n",
       "      <th>3</th>\n",
       "      <td>FDX07</td>\n",
       "      <td>19.20</td>\n",
       "      <td>Regular</td>\n",
       "      <td>0.000000</td>\n",
       "      <td>Fruits and Vegetables</td>\n",
       "      <td>182.0950</td>\n",
       "      <td>OUT010</td>\n",
       "      <td>1998</td>\n",
       "      <td>NaN</td>\n",
       "      <td>Tier 3</td>\n",
       "      <td>Grocery Store</td>\n",
       "      <td>732.3800</td>\n",
       "    </tr>\n",
       "    <tr>\n",
       "      <th>4</th>\n",
       "      <td>NCD19</td>\n",
       "      <td>8.93</td>\n",
       "      <td>Low Fat</td>\n",
       "      <td>0.000000</td>\n",
       "      <td>Household</td>\n",
       "      <td>53.8614</td>\n",
       "      <td>OUT013</td>\n",
       "      <td>1987</td>\n",
       "      <td>High</td>\n",
       "      <td>Tier 3</td>\n",
       "      <td>Supermarket Type1</td>\n",
       "      <td>994.7052</td>\n",
       "    </tr>\n",
       "  </tbody>\n",
       "</table>\n",
       "</div>"
      ],
      "text/plain": [
       "  Item_Identifier  Item_Weight Item_Fat_Content  Item_Visibility  \\\n",
       "0           FDA15         9.30          Low Fat         0.016047   \n",
       "1           DRC01         5.92          Regular         0.019278   \n",
       "2           FDN15        17.50          Low Fat         0.016760   \n",
       "3           FDX07        19.20          Regular         0.000000   \n",
       "4           NCD19         8.93          Low Fat         0.000000   \n",
       "\n",
       "               Item_Type  Item_MRP Outlet_Identifier  \\\n",
       "0                  Dairy  249.8092            OUT049   \n",
       "1            Soft Drinks   48.2692            OUT018   \n",
       "2                   Meat  141.6180            OUT049   \n",
       "3  Fruits and Vegetables  182.0950            OUT010   \n",
       "4              Household   53.8614            OUT013   \n",
       "\n",
       "   Outlet_Establishment_Year Outlet_Size Outlet_Location_Type  \\\n",
       "0                       1999      Medium               Tier 1   \n",
       "1                       2009      Medium               Tier 3   \n",
       "2                       1999      Medium               Tier 1   \n",
       "3                       1998         NaN               Tier 3   \n",
       "4                       1987        High               Tier 3   \n",
       "\n",
       "         Outlet_Type  Item_Outlet_Sales  \n",
       "0  Supermarket Type1          3735.1380  \n",
       "1  Supermarket Type2           443.4228  \n",
       "2  Supermarket Type1          2097.2700  \n",
       "3      Grocery Store           732.3800  \n",
       "4  Supermarket Type1           994.7052  "
      ]
     },
     "execution_count": 3,
     "metadata": {},
     "output_type": "execute_result"
    }
   ],
   "source": [
    "df.head()"
   ]
  },
  {
   "cell_type": "code",
   "execution_count": 4,
   "id": "81f0059b-3a95-463b-9f6e-7b03c4ce1ac9",
   "metadata": {},
   "outputs": [],
   "source": [
    "x=df.drop(columns=['Item_Outlet_Sales'])\n",
    "y=df['Item_Outlet_Sales']\n",
    "SEED=42"
   ]
  },
  {
   "cell_type": "code",
   "execution_count": 5,
   "id": "de1d0438-7bd9-489f-8082-30da8bdaa4c7",
   "metadata": {},
   "outputs": [
    {
     "data": {
      "text/plain": [
       "((5966, 11), (2557, 11))"
      ]
     },
     "execution_count": 5,
     "metadata": {},
     "output_type": "execute_result"
    }
   ],
   "source": [
    "from sklearn.model_selection import train_test_split\n",
    "x_train,x_test,y_train,y_test=train_test_split(x,y,test_size=0.3,random_state=SEED)\n",
    "x_train.shape, x_test.shape"
   ]
  },
  {
   "cell_type": "code",
   "execution_count": 6,
   "id": "7ca4014f-8fd4-4d81-a161-70cbc526cec5",
   "metadata": {},
   "outputs": [
    {
     "data": {
      "text/html": [
       "<div>\n",
       "<style scoped>\n",
       "    .dataframe tbody tr th:only-of-type {\n",
       "        vertical-align: middle;\n",
       "    }\n",
       "\n",
       "    .dataframe tbody tr th {\n",
       "        vertical-align: top;\n",
       "    }\n",
       "\n",
       "    .dataframe thead th {\n",
       "        text-align: right;\n",
       "    }\n",
       "</style>\n",
       "<table border=\"1\" class=\"dataframe\">\n",
       "  <thead>\n",
       "    <tr style=\"text-align: right;\">\n",
       "      <th></th>\n",
       "      <th>Item_Identifier</th>\n",
       "      <th>Item_Weight</th>\n",
       "      <th>Item_Fat_Content</th>\n",
       "      <th>Item_Visibility</th>\n",
       "      <th>Item_Type</th>\n",
       "      <th>Item_MRP</th>\n",
       "      <th>Outlet_Identifier</th>\n",
       "      <th>Outlet_Establishment_Year</th>\n",
       "      <th>Outlet_Size</th>\n",
       "      <th>Outlet_Location_Type</th>\n",
       "      <th>Outlet_Type</th>\n",
       "    </tr>\n",
       "  </thead>\n",
       "  <tbody>\n",
       "    <tr>\n",
       "      <th>1921</th>\n",
       "      <td>FDN08</td>\n",
       "      <td>7.72</td>\n",
       "      <td>Regular</td>\n",
       "      <td>0.147904</td>\n",
       "      <td>Fruits and Vegetables</td>\n",
       "      <td>116.6466</td>\n",
       "      <td>OUT010</td>\n",
       "      <td>1998</td>\n",
       "      <td>NaN</td>\n",
       "      <td>Tier 3</td>\n",
       "      <td>Grocery Store</td>\n",
       "    </tr>\n",
       "    <tr>\n",
       "      <th>655</th>\n",
       "      <td>NCJ42</td>\n",
       "      <td>19.75</td>\n",
       "      <td>Low Fat</td>\n",
       "      <td>0.014301</td>\n",
       "      <td>Household</td>\n",
       "      <td>103.0332</td>\n",
       "      <td>OUT046</td>\n",
       "      <td>1997</td>\n",
       "      <td>Small</td>\n",
       "      <td>Tier 1</td>\n",
       "      <td>Supermarket Type1</td>\n",
       "    </tr>\n",
       "    <tr>\n",
       "      <th>2229</th>\n",
       "      <td>FDY47</td>\n",
       "      <td>NaN</td>\n",
       "      <td>Regular</td>\n",
       "      <td>0.054221</td>\n",
       "      <td>Breads</td>\n",
       "      <td>129.1310</td>\n",
       "      <td>OUT027</td>\n",
       "      <td>1985</td>\n",
       "      <td>Medium</td>\n",
       "      <td>Tier 3</td>\n",
       "      <td>Supermarket Type3</td>\n",
       "    </tr>\n",
       "    <tr>\n",
       "      <th>2537</th>\n",
       "      <td>FDN45</td>\n",
       "      <td>19.35</td>\n",
       "      <td>Low Fat</td>\n",
       "      <td>0.118342</td>\n",
       "      <td>Snack Foods</td>\n",
       "      <td>222.6088</td>\n",
       "      <td>OUT045</td>\n",
       "      <td>2002</td>\n",
       "      <td>NaN</td>\n",
       "      <td>Tier 2</td>\n",
       "      <td>Supermarket Type1</td>\n",
       "    </tr>\n",
       "    <tr>\n",
       "      <th>3528</th>\n",
       "      <td>FDY16</td>\n",
       "      <td>18.35</td>\n",
       "      <td>Regular</td>\n",
       "      <td>0.092150</td>\n",
       "      <td>Frozen Foods</td>\n",
       "      <td>184.8266</td>\n",
       "      <td>OUT013</td>\n",
       "      <td>1987</td>\n",
       "      <td>High</td>\n",
       "      <td>Tier 3</td>\n",
       "      <td>Supermarket Type1</td>\n",
       "    </tr>\n",
       "  </tbody>\n",
       "</table>\n",
       "</div>"
      ],
      "text/plain": [
       "     Item_Identifier  Item_Weight Item_Fat_Content  Item_Visibility  \\\n",
       "1921           FDN08         7.72          Regular         0.147904   \n",
       "655            NCJ42        19.75          Low Fat         0.014301   \n",
       "2229           FDY47          NaN          Regular         0.054221   \n",
       "2537           FDN45        19.35          Low Fat         0.118342   \n",
       "3528           FDY16        18.35          Regular         0.092150   \n",
       "\n",
       "                  Item_Type  Item_MRP Outlet_Identifier  \\\n",
       "1921  Fruits and Vegetables  116.6466            OUT010   \n",
       "655               Household  103.0332            OUT046   \n",
       "2229                 Breads  129.1310            OUT027   \n",
       "2537            Snack Foods  222.6088            OUT045   \n",
       "3528           Frozen Foods  184.8266            OUT013   \n",
       "\n",
       "      Outlet_Establishment_Year Outlet_Size Outlet_Location_Type  \\\n",
       "1921                       1998         NaN               Tier 3   \n",
       "655                        1997       Small               Tier 1   \n",
       "2229                       1985      Medium               Tier 3   \n",
       "2537                       2002         NaN               Tier 2   \n",
       "3528                       1987        High               Tier 3   \n",
       "\n",
       "            Outlet_Type  \n",
       "1921      Grocery Store  \n",
       "655   Supermarket Type1  \n",
       "2229  Supermarket Type3  \n",
       "2537  Supermarket Type1  \n",
       "3528  Supermarket Type1  "
      ]
     },
     "execution_count": 6,
     "metadata": {},
     "output_type": "execute_result"
    }
   ],
   "source": [
    "x_train.head()"
   ]
  },
  {
   "cell_type": "code",
   "execution_count": 7,
   "id": "7727426e-1132-490e-b729-c020cab466a2",
   "metadata": {},
   "outputs": [
    {
     "data": {
      "text/plain": [
       "1921     117.8466\n",
       "655     1230.3984\n",
       "2229    4933.5780\n",
       "2537    1789.6704\n",
       "3528    3872.9586\n",
       "Name: Item_Outlet_Sales, dtype: float64"
      ]
     },
     "execution_count": 7,
     "metadata": {},
     "output_type": "execute_result"
    }
   ],
   "source": [
    "y_train.head()"
   ]
  },
  {
   "cell_type": "code",
   "execution_count": 8,
   "id": "2cf9b4f5-8d44-4fd9-aa79-6b8b38c025ef",
   "metadata": {},
   "outputs": [],
   "source": [
    "x_train_c=x_train.copy()"
   ]
  },
  {
   "cell_type": "code",
   "execution_count": 9,
   "id": "4119ec00-1447-4714-a0ca-308410065885",
   "metadata": {},
   "outputs": [
    {
     "name": "stdout",
     "output_type": "stream",
     "text": [
      "<class 'pandas.core.frame.DataFrame'>\n",
      "Index: 5966 entries, 1921 to 7270\n",
      "Data columns (total 11 columns):\n",
      " #   Column                     Non-Null Count  Dtype  \n",
      "---  ------                     --------------  -----  \n",
      " 0   Item_Identifier            5966 non-null   object \n",
      " 1   Item_Weight                4943 non-null   float64\n",
      " 2   Item_Fat_Content           5966 non-null   object \n",
      " 3   Item_Visibility            5966 non-null   float64\n",
      " 4   Item_Type                  5966 non-null   object \n",
      " 5   Item_MRP                   5966 non-null   float64\n",
      " 6   Outlet_Identifier          5966 non-null   object \n",
      " 7   Outlet_Establishment_Year  5966 non-null   int64  \n",
      " 8   Outlet_Size                4276 non-null   object \n",
      " 9   Outlet_Location_Type       5966 non-null   object \n",
      " 10  Outlet_Type                5966 non-null   object \n",
      "dtypes: float64(3), int64(1), object(7)\n",
      "memory usage: 559.3+ KB\n"
     ]
    }
   ],
   "source": [
    "x_train_c.info()"
   ]
  },
  {
   "cell_type": "code",
   "execution_count": 10,
   "id": "b307be5d-f69a-4641-8052-dcbf3985e66e",
   "metadata": {},
   "outputs": [
    {
     "data": {
      "text/plain": [
       "Item_Identifier                 0\n",
       "Item_Weight                  1023\n",
       "Item_Fat_Content                0\n",
       "Item_Visibility                 0\n",
       "Item_Type                       0\n",
       "Item_MRP                        0\n",
       "Outlet_Identifier               0\n",
       "Outlet_Establishment_Year       0\n",
       "Outlet_Size                  1690\n",
       "Outlet_Location_Type            0\n",
       "Outlet_Type                     0\n",
       "dtype: int64"
      ]
     },
     "execution_count": 10,
     "metadata": {},
     "output_type": "execute_result"
    }
   ],
   "source": [
    "x_train_c.isnull().sum()"
   ]
  },
  {
   "cell_type": "code",
   "execution_count": 11,
   "id": "3c080172-206f-4507-9ca5-7d061282d9e9",
   "metadata": {},
   "outputs": [
    {
     "data": {
      "text/html": [
       "<div>\n",
       "<style scoped>\n",
       "    .dataframe tbody tr th:only-of-type {\n",
       "        vertical-align: middle;\n",
       "    }\n",
       "\n",
       "    .dataframe tbody tr th {\n",
       "        vertical-align: top;\n",
       "    }\n",
       "\n",
       "    .dataframe thead th {\n",
       "        text-align: right;\n",
       "    }\n",
       "</style>\n",
       "<table border=\"1\" class=\"dataframe\">\n",
       "  <thead>\n",
       "    <tr style=\"text-align: right;\">\n",
       "      <th></th>\n",
       "      <th>Item_Weight</th>\n",
       "      <th>Item_Visibility</th>\n",
       "      <th>Item_MRP</th>\n",
       "      <th>Outlet_Establishment_Year</th>\n",
       "    </tr>\n",
       "  </thead>\n",
       "  <tbody>\n",
       "    <tr>\n",
       "      <th>1921</th>\n",
       "      <td>7.72</td>\n",
       "      <td>0.147904</td>\n",
       "      <td>116.6466</td>\n",
       "      <td>1998</td>\n",
       "    </tr>\n",
       "    <tr>\n",
       "      <th>655</th>\n",
       "      <td>19.75</td>\n",
       "      <td>0.014301</td>\n",
       "      <td>103.0332</td>\n",
       "      <td>1997</td>\n",
       "    </tr>\n",
       "    <tr>\n",
       "      <th>2229</th>\n",
       "      <td>NaN</td>\n",
       "      <td>0.054221</td>\n",
       "      <td>129.1310</td>\n",
       "      <td>1985</td>\n",
       "    </tr>\n",
       "    <tr>\n",
       "      <th>2537</th>\n",
       "      <td>19.35</td>\n",
       "      <td>0.118342</td>\n",
       "      <td>222.6088</td>\n",
       "      <td>2002</td>\n",
       "    </tr>\n",
       "    <tr>\n",
       "      <th>3528</th>\n",
       "      <td>18.35</td>\n",
       "      <td>0.092150</td>\n",
       "      <td>184.8266</td>\n",
       "      <td>1987</td>\n",
       "    </tr>\n",
       "  </tbody>\n",
       "</table>\n",
       "</div>"
      ],
      "text/plain": [
       "      Item_Weight  Item_Visibility  Item_MRP  Outlet_Establishment_Year\n",
       "1921         7.72         0.147904  116.6466                       1998\n",
       "655         19.75         0.014301  103.0332                       1997\n",
       "2229          NaN         0.054221  129.1310                       1985\n",
       "2537        19.35         0.118342  222.6088                       2002\n",
       "3528        18.35         0.092150  184.8266                       1987"
      ]
     },
     "execution_count": 11,
     "metadata": {},
     "output_type": "execute_result"
    }
   ],
   "source": [
    "num_data=x_train_c.select_dtypes(exclude=['object'])\n",
    "num_data.head()"
   ]
  },
  {
   "cell_type": "code",
   "execution_count": 12,
   "id": "775a8465-441f-49d2-8982-6bfbf4e3938e",
   "metadata": {},
   "outputs": [
    {
     "data": {
      "text/html": [
       "<div>\n",
       "<style scoped>\n",
       "    .dataframe tbody tr th:only-of-type {\n",
       "        vertical-align: middle;\n",
       "    }\n",
       "\n",
       "    .dataframe tbody tr th {\n",
       "        vertical-align: top;\n",
       "    }\n",
       "\n",
       "    .dataframe thead th {\n",
       "        text-align: right;\n",
       "    }\n",
       "</style>\n",
       "<table border=\"1\" class=\"dataframe\">\n",
       "  <thead>\n",
       "    <tr style=\"text-align: right;\">\n",
       "      <th></th>\n",
       "      <th>Item_Weight</th>\n",
       "      <th>Item_Visibility</th>\n",
       "      <th>Item_MRP</th>\n",
       "      <th>Outlet_Establishment_Year</th>\n",
       "    </tr>\n",
       "  </thead>\n",
       "  <tbody>\n",
       "    <tr>\n",
       "      <th>count</th>\n",
       "      <td>4943.000000</td>\n",
       "      <td>5966.000000</td>\n",
       "      <td>5966.000000</td>\n",
       "      <td>5966.000000</td>\n",
       "    </tr>\n",
       "    <tr>\n",
       "      <th>mean</th>\n",
       "      <td>12.937193</td>\n",
       "      <td>0.065821</td>\n",
       "      <td>141.814242</td>\n",
       "      <td>1997.867248</td>\n",
       "    </tr>\n",
       "    <tr>\n",
       "      <th>std</th>\n",
       "      <td>4.630433</td>\n",
       "      <td>0.051093</td>\n",
       "      <td>62.627609</td>\n",
       "      <td>8.385023</td>\n",
       "    </tr>\n",
       "    <tr>\n",
       "      <th>min</th>\n",
       "      <td>4.555000</td>\n",
       "      <td>0.000000</td>\n",
       "      <td>31.290000</td>\n",
       "      <td>1985.000000</td>\n",
       "    </tr>\n",
       "    <tr>\n",
       "      <th>25%</th>\n",
       "      <td>8.895000</td>\n",
       "      <td>0.026982</td>\n",
       "      <td>94.144250</td>\n",
       "      <td>1987.000000</td>\n",
       "    </tr>\n",
       "    <tr>\n",
       "      <th>50%</th>\n",
       "      <td>12.650000</td>\n",
       "      <td>0.053923</td>\n",
       "      <td>143.879900</td>\n",
       "      <td>1999.000000</td>\n",
       "    </tr>\n",
       "    <tr>\n",
       "      <th>75%</th>\n",
       "      <td>17.000000</td>\n",
       "      <td>0.094350</td>\n",
       "      <td>186.621400</td>\n",
       "      <td>2004.000000</td>\n",
       "    </tr>\n",
       "    <tr>\n",
       "      <th>max</th>\n",
       "      <td>21.350000</td>\n",
       "      <td>0.328391</td>\n",
       "      <td>266.888400</td>\n",
       "      <td>2009.000000</td>\n",
       "    </tr>\n",
       "  </tbody>\n",
       "</table>\n",
       "</div>"
      ],
      "text/plain": [
       "       Item_Weight  Item_Visibility     Item_MRP  Outlet_Establishment_Year\n",
       "count  4943.000000      5966.000000  5966.000000                5966.000000\n",
       "mean     12.937193         0.065821   141.814242                1997.867248\n",
       "std       4.630433         0.051093    62.627609                   8.385023\n",
       "min       4.555000         0.000000    31.290000                1985.000000\n",
       "25%       8.895000         0.026982    94.144250                1987.000000\n",
       "50%      12.650000         0.053923   143.879900                1999.000000\n",
       "75%      17.000000         0.094350   186.621400                2004.000000\n",
       "max      21.350000         0.328391   266.888400                2009.000000"
      ]
     },
     "execution_count": 12,
     "metadata": {},
     "output_type": "execute_result"
    }
   ],
   "source": [
    "num_data.describe()"
   ]
  },
  {
   "cell_type": "code",
   "execution_count": 13,
   "id": "bd3f4201-d73e-4ad0-958e-660e0da09201",
   "metadata": {},
   "outputs": [
    {
     "data": {
      "text/plain": [
       "Item_Weight                  1023\n",
       "Item_Visibility                 0\n",
       "Item_MRP                        0\n",
       "Outlet_Establishment_Year       0\n",
       "dtype: int64"
      ]
     },
     "execution_count": 13,
     "metadata": {},
     "output_type": "execute_result"
    }
   ],
   "source": [
    "num_data.isnull().sum()"
   ]
  },
  {
   "cell_type": "code",
   "execution_count": 14,
   "id": "565108ad-f454-4214-a286-2119dec40a0d",
   "metadata": {},
   "outputs": [],
   "source": [
    "import seaborn as sns\n",
    "import matplotlib.pyplot as plt"
   ]
  },
  {
   "cell_type": "code",
   "execution_count": 15,
   "id": "524024cd-37b4-4566-b266-a4286aa6581d",
   "metadata": {},
   "outputs": [
    {
     "data": {
      "image/png": "[encoded data removed]",
      "text/plain": [
       "<Figure size 1200x500 with 2 Axes>"
      ]
     },
     "metadata": {},
     "output_type": "display_data"
    }
   ],
   "source": [
    "fig, ax=plt.subplots(1,2,figsize=(12,5))\n",
    "\n",
    "sns.histplot(data=x_train_c, x='Item_Weight', ax=ax[0]);\n",
    "sns.boxplot(data=x_train_c, y='Item_Weight', ax=ax[1]);"
   ]
  },
  {
   "cell_type": "code",
   "execution_count": 16,
   "id": "ff4dc541-ac21-4c52-b6e0-86c650fd2d29",
   "metadata": {},
   "outputs": [],
   "source": [
    "def visualize_numeric_feature(data_frame, col_name):\n",
    "    fig, ax=plt.subplots(1,2,figsize=(12,5))\n",
    "    sns.histplot(data=data_frame, x=col_name, ax=ax[0]);\n",
    "    sns.boxplot(data=data_frame, y=col_name, ax=ax[1]);"
   ]
  },
  {
   "cell_type": "code",
   "execution_count": 17,
   "id": "c2cd54ff-e5be-43df-9a8c-6c0ad2457c1e",
   "metadata": {},
   "outputs": [
    {
     "data": {
      "image/png": "[encoded data removed]",
      "text/plain": [
       "<Figure size 1200x500 with 2 Axes>"
      ]
     },
     "metadata": {},
     "output_type": "display_data"
    }
   ],
   "source": [
    "visualize_numeric_feature(x_train_c, 'Item_Weight')"
   ]
  },
  {
   "cell_type": "code",
   "execution_count": 18,
   "id": "598bd385-44b0-423d-8951-fdf249ef1478",
   "metadata": {},
   "outputs": [
    {
     "data": {
      "image/png": "[encoded data removed]",
      "text/plain": [
       "<Figure size 1200x500 with 2 Axes>"
      ]
     },
     "metadata": {},
     "output_type": "display_data"
    }
   ],
   "source": [
    "visualize_numeric_feature(x_train_c, 'Item_Visibility')"
   ]
  },
  {
   "cell_type": "code",
   "execution_count": 19,
   "id": "b6152c2b-90bd-48e3-aa2c-d51077a3f905",
   "metadata": {},
   "outputs": [
    {
     "data": {
      "image/png": "[encoded data removed]",
      "text/plain": [
       "<Figure size 1200x500 with 2 Axes>"
      ]
     },
     "metadata": {},
     "output_type": "display_data"
    }
   ],
   "source": [
    "visualize_numeric_feature(x_train_c, 'Item_MRP')"
   ]
  },
  {
   "cell_type": "code",
   "execution_count": 20,
   "id": "f6885cbf-7875-4215-ac19-beb2f4061ef9",
   "metadata": {},
   "outputs": [
    {
     "data": {
      "image/png": "[encoded data removed]",
      "text/plain": [
       "<Figure size 1200x500 with 2 Axes>"
      ]
     },
     "metadata": {},
     "output_type": "display_data"
    }
   ],
   "source": [
    "visualize_numeric_feature(x_train_c, 'Outlet_Establishment_Year')"
   ]
  },
  {
   "cell_type": "code",
   "execution_count": 21,
   "id": "76717695-2a6f-4775-b254-eb5f9ffe3407",
   "metadata": {},
   "outputs": [
    {
     "data": {
      "image/png": "[encoded data removed]",
      "text/plain": [
       "<Figure size 640x480 with 1 Axes>"
      ]
     },
     "metadata": {},
     "output_type": "display_data"
    }
   ],
   "source": [
    "sns.countplot(data=x_train_c, x='Outlet_Establishment_Year');"
   ]
  },
  {
   "cell_type": "code",
   "execution_count": 22,
   "id": "af0a335f-aa48-420a-a11c-8ecf1fa176a6",
   "metadata": {},
   "outputs": [
    {
     "data": {
      "text/html": [
       "<div>\n",
       "<style scoped>\n",
       "    .dataframe tbody tr th:only-of-type {\n",
       "        vertical-align: middle;\n",
       "    }\n",
       "\n",
       "    .dataframe tbody tr th {\n",
       "        vertical-align: top;\n",
       "    }\n",
       "\n",
       "    .dataframe thead th {\n",
       "        text-align: right;\n",
       "    }\n",
       "</style>\n",
       "<table border=\"1\" class=\"dataframe\">\n",
       "  <thead>\n",
       "    <tr style=\"text-align: right;\">\n",
       "      <th></th>\n",
       "      <th>Item_Identifier</th>\n",
       "      <th>Item_Fat_Content</th>\n",
       "      <th>Item_Type</th>\n",
       "      <th>Outlet_Identifier</th>\n",
       "      <th>Outlet_Size</th>\n",
       "      <th>Outlet_Location_Type</th>\n",
       "      <th>Outlet_Type</th>\n",
       "    </tr>\n",
       "  </thead>\n",
       "  <tbody>\n",
       "    <tr>\n",
       "      <th>1921</th>\n",
       "      <td>FDN08</td>\n",
       "      <td>Regular</td>\n",
       "      <td>Fruits and Vegetables</td>\n",
       "      <td>OUT010</td>\n",
       "      <td>NaN</td>\n",
       "      <td>Tier 3</td>\n",
       "      <td>Grocery Store</td>\n",
       "    </tr>\n",
       "    <tr>\n",
       "      <th>655</th>\n",
       "      <td>NCJ42</td>\n",
       "      <td>Low Fat</td>\n",
       "      <td>Household</td>\n",
       "      <td>OUT046</td>\n",
       "      <td>Small</td>\n",
       "      <td>Tier 1</td>\n",
       "      <td>Supermarket Type1</td>\n",
       "    </tr>\n",
       "    <tr>\n",
       "      <th>2229</th>\n",
       "      <td>FDY47</td>\n",
       "      <td>Regular</td>\n",
       "      <td>Breads</td>\n",
       "      <td>OUT027</td>\n",
       "      <td>Medium</td>\n",
       "      <td>Tier 3</td>\n",
       "      <td>Supermarket Type3</td>\n",
       "    </tr>\n",
       "    <tr>\n",
       "      <th>2537</th>\n",
       "      <td>FDN45</td>\n",
       "      <td>Low Fat</td>\n",
       "      <td>Snack Foods</td>\n",
       "      <td>OUT045</td>\n",
       "      <td>NaN</td>\n",
       "      <td>Tier 2</td>\n",
       "      <td>Supermarket Type1</td>\n",
       "    </tr>\n",
       "    <tr>\n",
       "      <th>3528</th>\n",
       "      <td>FDY16</td>\n",
       "      <td>Regular</td>\n",
       "      <td>Frozen Foods</td>\n",
       "      <td>OUT013</td>\n",
       "      <td>High</td>\n",
       "      <td>Tier 3</td>\n",
       "      <td>Supermarket Type1</td>\n",
       "    </tr>\n",
       "  </tbody>\n",
       "</table>\n",
       "</div>"
      ],
      "text/plain": [
       "     Item_Identifier Item_Fat_Content              Item_Type  \\\n",
       "1921           FDN08          Regular  Fruits and Vegetables   \n",
       "655            NCJ42          Low Fat              Household   \n",
       "2229           FDY47          Regular                 Breads   \n",
       "2537           FDN45          Low Fat            Snack Foods   \n",
       "3528           FDY16          Regular           Frozen Foods   \n",
       "\n",
       "     Outlet_Identifier Outlet_Size Outlet_Location_Type        Outlet_Type  \n",
       "1921            OUT010         NaN               Tier 3      Grocery Store  \n",
       "655             OUT046       Small               Tier 1  Supermarket Type1  \n",
       "2229            OUT027      Medium               Tier 3  Supermarket Type3  \n",
       "2537            OUT045         NaN               Tier 2  Supermarket Type1  \n",
       "3528            OUT013        High               Tier 3  Supermarket Type1  "
      ]
     },
     "execution_count": 22,
     "metadata": {},
     "output_type": "execute_result"
    }
   ],
   "source": [
    "cat_features=x_train_c.select_dtypes(include=['object'])\n",
    "cat_features.head()"
   ]
  },
  {
   "cell_type": "code",
   "execution_count": 23,
   "id": "a82fce12-10fe-4965-922d-0b34e7f01c1f",
   "metadata": {},
   "outputs": [
    {
     "data": {
      "text/html": [
       "<div>\n",
       "<style scoped>\n",
       "    .dataframe tbody tr th:only-of-type {\n",
       "        vertical-align: middle;\n",
       "    }\n",
       "\n",
       "    .dataframe tbody tr th {\n",
       "        vertical-align: top;\n",
       "    }\n",
       "\n",
       "    .dataframe thead th {\n",
       "        text-align: right;\n",
       "    }\n",
       "</style>\n",
       "<table border=\"1\" class=\"dataframe\">\n",
       "  <thead>\n",
       "    <tr style=\"text-align: right;\">\n",
       "      <th></th>\n",
       "      <th>Item_Identifier</th>\n",
       "      <th>Item_Fat_Content</th>\n",
       "      <th>Item_Type</th>\n",
       "      <th>Outlet_Identifier</th>\n",
       "      <th>Outlet_Size</th>\n",
       "      <th>Outlet_Location_Type</th>\n",
       "      <th>Outlet_Type</th>\n",
       "    </tr>\n",
       "  </thead>\n",
       "  <tbody>\n",
       "    <tr>\n",
       "      <th>count</th>\n",
       "      <td>5966</td>\n",
       "      <td>5966</td>\n",
       "      <td>5966</td>\n",
       "      <td>5966</td>\n",
       "      <td>4276</td>\n",
       "      <td>5966</td>\n",
       "      <td>5966</td>\n",
       "    </tr>\n",
       "    <tr>\n",
       "      <th>unique</th>\n",
       "      <td>1543</td>\n",
       "      <td>5</td>\n",
       "      <td>16</td>\n",
       "      <td>10</td>\n",
       "      <td>3</td>\n",
       "      <td>3</td>\n",
       "      <td>4</td>\n",
       "    </tr>\n",
       "    <tr>\n",
       "      <th>top</th>\n",
       "      <td>NCI54</td>\n",
       "      <td>Low Fat</td>\n",
       "      <td>Fruits and Vegetables</td>\n",
       "      <td>OUT027</td>\n",
       "      <td>Medium</td>\n",
       "      <td>Tier 3</td>\n",
       "      <td>Supermarket Type1</td>\n",
       "    </tr>\n",
       "    <tr>\n",
       "      <th>freq</th>\n",
       "      <td>9</td>\n",
       "      <td>3535</td>\n",
       "      <td>905</td>\n",
       "      <td>668</td>\n",
       "      <td>1960</td>\n",
       "      <td>2367</td>\n",
       "      <td>3893</td>\n",
       "    </tr>\n",
       "  </tbody>\n",
       "</table>\n",
       "</div>"
      ],
      "text/plain": [
       "       Item_Identifier Item_Fat_Content              Item_Type  \\\n",
       "count             5966             5966                   5966   \n",
       "unique            1543                5                     16   \n",
       "top              NCI54          Low Fat  Fruits and Vegetables   \n",
       "freq                 9             3535                    905   \n",
       "\n",
       "       Outlet_Identifier Outlet_Size Outlet_Location_Type        Outlet_Type  \n",
       "count               5966        4276                 5966               5966  \n",
       "unique                10           3                    3                  4  \n",
       "top               OUT027      Medium               Tier 3  Supermarket Type1  \n",
       "freq                 668        1960                 2367               3893  "
      ]
     },
     "execution_count": 23,
     "metadata": {},
     "output_type": "execute_result"
    }
   ],
   "source": [
    "cat_features.describe()"
   ]
  },
  {
   "cell_type": "code",
   "execution_count": 24,
   "id": "b04e7b97-5041-4dae-b9fa-404b16ca302c",
   "metadata": {},
   "outputs": [
    {
     "data": {
      "text/plain": [
       "Item_Identifier            0\n",
       "Item_Fat_Content           0\n",
       "Item_Type                  0\n",
       "Outlet_Identifier          0\n",
       "Outlet_Size             1690\n",
       "Outlet_Location_Type       0\n",
       "Outlet_Type                0\n",
       "dtype: int64"
      ]
     },
     "execution_count": 24,
     "metadata": {},
     "output_type": "execute_result"
    }
   ],
   "source": [
    "cat_features.isnull().sum()"
   ]
  },
  {
   "cell_type": "code",
   "execution_count": 25,
   "id": "a7d3b9d7-95b3-4648-8819-1918fced83ee",
   "metadata": {},
   "outputs": [
    {
     "data": {
      "text/plain": [
       "Item_Identifier\n",
       "NCI54    9\n",
       "FDF52    9\n",
       "FDV60    8\n",
       "FDT07    8\n",
       "NCB18    8\n",
       "        ..\n",
       "FDT47    1\n",
       "NCW42    1\n",
       "DRH59    1\n",
       "FDV14    1\n",
       "FDG28    1\n",
       "Name: count, Length: 1543, dtype: int64"
      ]
     },
     "execution_count": 25,
     "metadata": {},
     "output_type": "execute_result"
    }
   ],
   "source": [
    "cat_features['Item_Identifier'].value_counts()"
   ]
  },
  {
   "cell_type": "code",
   "execution_count": 26,
   "id": "5642d5ed-32f1-48f0-9024-2ff56c56e9b4",
   "metadata": {},
   "outputs": [
    {
     "data": {
      "text/plain": [
       "Item_Fat_Content\n",
       "Low Fat    3535\n",
       "Regular    2027\n",
       "LF          243\n",
       "low fat      82\n",
       "reg          79\n",
       "Name: count, dtype: int64"
      ]
     },
     "execution_count": 26,
     "metadata": {},
     "output_type": "execute_result"
    }
   ],
   "source": [
    "cat_features['Item_Fat_Content'].value_counts()"
   ]
  },
  {
   "cell_type": "code",
   "execution_count": 27,
   "id": "5670e1ee-3a12-4060-b1bc-f39bde9fdf14",
   "metadata": {},
   "outputs": [
    {
     "data": {
      "text/plain": [
       "Item_Type\n",
       "Fruits and Vegetables    905\n",
       "Snack Foods              835\n",
       "Household                648\n",
       "Frozen Foods             591\n",
       "Dairy                    474\n",
       "Canned                   450\n",
       "Baking Goods             438\n",
       "Health and Hygiene       365\n",
       "Soft Drinks              305\n",
       "Meat                     275\n",
       "Hard Drinks              162\n",
       "Breads                   159\n",
       "Others                   124\n",
       "Starchy Foods            116\n",
       "Breakfast                 80\n",
       "Seafood                   39\n",
       "Name: count, dtype: int64"
      ]
     },
     "execution_count": 27,
     "metadata": {},
     "output_type": "execute_result"
    }
   ],
   "source": [
    "cat_features['Item_Type'].value_counts()"
   ]
  },
  {
   "cell_type": "code",
   "execution_count": 28,
   "id": "b1fb9c8e-0a45-470a-8e70-d0c3f1bdbae5",
   "metadata": {},
   "outputs": [
    {
     "data": {
      "text/plain": [
       "Outlet_Identifier\n",
       "OUT027    668\n",
       "OUT018    661\n",
       "OUT046    656\n",
       "OUT035    656\n",
       "OUT017    652\n",
       "OUT045    649\n",
       "OUT013    649\n",
       "OUT049    631\n",
       "OUT010    389\n",
       "OUT019    355\n",
       "Name: count, dtype: int64"
      ]
     },
     "execution_count": 28,
     "metadata": {},
     "output_type": "execute_result"
    }
   ],
   "source": [
    "cat_features['Outlet_Identifier'].value_counts()"
   ]
  },
  {
   "cell_type": "code",
   "execution_count": 29,
   "id": "d193ecb1-a6f7-46c7-94c0-3940d98a47f0",
   "metadata": {},
   "outputs": [
    {
     "data": {
      "text/plain": [
       "Outlet_Size\n",
       "Medium    1960\n",
       "Small     1667\n",
       "High       649\n",
       "Name: count, dtype: int64"
      ]
     },
     "execution_count": 29,
     "metadata": {},
     "output_type": "execute_result"
    }
   ],
   "source": [
    "cat_features['Outlet_Size'].value_counts()"
   ]
  },
  {
   "cell_type": "code",
   "execution_count": 30,
   "id": "67f6a6cc-d69c-4b47-8318-0c1659511b25",
   "metadata": {},
   "outputs": [
    {
     "data": {
      "text/plain": [
       "Outlet_Location_Type\n",
       "Tier 3    2367\n",
       "Tier 2    1957\n",
       "Tier 1    1642\n",
       "Name: count, dtype: int64"
      ]
     },
     "execution_count": 30,
     "metadata": {},
     "output_type": "execute_result"
    }
   ],
   "source": [
    "cat_features['Outlet_Location_Type'].value_counts()"
   ]
  },
  {
   "cell_type": "code",
   "execution_count": 31,
   "id": "9d9d9577-aa7c-46ef-a253-ade0119a0beb",
   "metadata": {},
   "outputs": [
    {
     "data": {
      "text/plain": [
       "Outlet_Type\n",
       "Supermarket Type1    3893\n",
       "Grocery Store         744\n",
       "Supermarket Type3     668\n",
       "Supermarket Type2     661\n",
       "Name: count, dtype: int64"
      ]
     },
     "execution_count": 31,
     "metadata": {},
     "output_type": "execute_result"
    }
   ],
   "source": [
    "cat_features['Outlet_Type'].value_counts()"
   ]
  },
  {
   "cell_type": "code",
   "execution_count": 32,
   "id": "3d30e678-0b68-4441-bc1d-5e1fc49d8867",
   "metadata": {},
   "outputs": [
    {
     "data": {
      "text/plain": [
       "1921    FDN08\n",
       "655     NCJ42\n",
       "2229    FDY47\n",
       "2537    FDN45\n",
       "3528    FDY16\n",
       "        ...  \n",
       "5734    FDY08\n",
       "5191    FDC41\n",
       "5390    NCQ53\n",
       "860     FDL46\n",
       "7270    NCN30\n",
       "Name: Item_Identifier, Length: 5966, dtype: object"
      ]
     },
     "execution_count": 32,
     "metadata": {},
     "output_type": "execute_result"
    }
   ],
   "source": [
    "x_train_c['Item_Identifier']"
   ]
  },
  {
   "cell_type": "code",
   "execution_count": 33,
   "id": "5119f11e-a8ee-4810-910a-621dbd21145c",
   "metadata": {},
   "outputs": [
    {
     "data": {
      "text/plain": [
       "Item_Identifier\n",
       "FD    4269\n",
       "NC    1137\n",
       "DR     560\n",
       "Name: count, dtype: int64"
      ]
     },
     "execution_count": 33,
     "metadata": {},
     "output_type": "execute_result"
    }
   ],
   "source": [
    "x_train_c['Item_Identifier'].apply(lambda x:x[:2]).value_counts()"
   ]
  },
  {
   "cell_type": "code",
   "execution_count": 34,
   "id": "87112da6-85f9-403c-bb7b-f8f1e347026a",
   "metadata": {},
   "outputs": [
    {
     "data": {
      "text/plain": [
       "<pandas.core.strings.accessor.StringMethods at 0x28eb27d1430>"
      ]
     },
     "execution_count": 34,
     "metadata": {},
     "output_type": "execute_result"
    }
   ],
   "source": [
    "x_train_c['Item_Identifier'].str"
   ]
  },
  {
   "cell_type": "code",
   "execution_count": 35,
   "id": "998dade7-ef07-4562-b510-cb30cc62950c",
   "metadata": {},
   "outputs": [
    {
     "data": {
      "text/plain": [
       "Item_Identifier\n",
       "FD    4269\n",
       "NC    1137\n",
       "DR     560\n",
       "Name: count, dtype: int64"
      ]
     },
     "execution_count": 35,
     "metadata": {},
     "output_type": "execute_result"
    }
   ],
   "source": [
    "x_train_c['Item_Identifier'].str[:2].value_counts()"
   ]
  },
  {
   "cell_type": "code",
   "execution_count": 36,
   "id": "e89788ff-8046-44cd-b895-3fe194ebb5dd",
   "metadata": {},
   "outputs": [],
   "source": [
    "def create_item_type(data_frame):\n",
    "    data_frame['Item_Type'] = data_frame['Item_Identifier'].str[:2]\n",
    "    data_frame['Item_Type'] = data_frame['Item_Type'].map({\n",
    "        'FD': 'Food',\n",
    "        'NC': 'Non_Consumables',\n",
    "        'DR': 'Drink'\n",
    "    })\n",
    "    return data_frame\n"
   ]
  },
  {
   "cell_type": "code",
   "execution_count": 37,
   "id": "a508cd43-9bb0-4691-b26c-9bd6602fbc61",
   "metadata": {},
   "outputs": [
    {
     "data": {
      "text/html": [
       "<div>\n",
       "<style scoped>\n",
       "    .dataframe tbody tr th:only-of-type {\n",
       "        vertical-align: middle;\n",
       "    }\n",
       "\n",
       "    .dataframe tbody tr th {\n",
       "        vertical-align: top;\n",
       "    }\n",
       "\n",
       "    .dataframe thead th {\n",
       "        text-align: right;\n",
       "    }\n",
       "</style>\n",
       "<table border=\"1\" class=\"dataframe\">\n",
       "  <thead>\n",
       "    <tr style=\"text-align: right;\">\n",
       "      <th></th>\n",
       "      <th>Item_Identifier</th>\n",
       "      <th>Item_Weight</th>\n",
       "      <th>Item_Fat_Content</th>\n",
       "      <th>Item_Visibility</th>\n",
       "      <th>Item_Type</th>\n",
       "      <th>Item_MRP</th>\n",
       "      <th>Outlet_Identifier</th>\n",
       "      <th>Outlet_Establishment_Year</th>\n",
       "      <th>Outlet_Size</th>\n",
       "      <th>Outlet_Location_Type</th>\n",
       "      <th>Outlet_Type</th>\n",
       "    </tr>\n",
       "  </thead>\n",
       "  <tbody>\n",
       "    <tr>\n",
       "      <th>1921</th>\n",
       "      <td>FDN08</td>\n",
       "      <td>7.72</td>\n",
       "      <td>Regular</td>\n",
       "      <td>0.147904</td>\n",
       "      <td>Food</td>\n",
       "      <td>116.6466</td>\n",
       "      <td>OUT010</td>\n",
       "      <td>1998</td>\n",
       "      <td>NaN</td>\n",
       "      <td>Tier 3</td>\n",
       "      <td>Grocery Store</td>\n",
       "    </tr>\n",
       "    <tr>\n",
       "      <th>655</th>\n",
       "      <td>NCJ42</td>\n",
       "      <td>19.75</td>\n",
       "      <td>Low Fat</td>\n",
       "      <td>0.014301</td>\n",
       "      <td>Non_Consumables</td>\n",
       "      <td>103.0332</td>\n",
       "      <td>OUT046</td>\n",
       "      <td>1997</td>\n",
       "      <td>Small</td>\n",
       "      <td>Tier 1</td>\n",
       "      <td>Supermarket Type1</td>\n",
       "    </tr>\n",
       "    <tr>\n",
       "      <th>2229</th>\n",
       "      <td>FDY47</td>\n",
       "      <td>NaN</td>\n",
       "      <td>Regular</td>\n",
       "      <td>0.054221</td>\n",
       "      <td>Food</td>\n",
       "      <td>129.1310</td>\n",
       "      <td>OUT027</td>\n",
       "      <td>1985</td>\n",
       "      <td>Medium</td>\n",
       "      <td>Tier 3</td>\n",
       "      <td>Supermarket Type3</td>\n",
       "    </tr>\n",
       "    <tr>\n",
       "      <th>2537</th>\n",
       "      <td>FDN45</td>\n",
       "      <td>19.35</td>\n",
       "      <td>Low Fat</td>\n",
       "      <td>0.118342</td>\n",
       "      <td>Food</td>\n",
       "      <td>222.6088</td>\n",
       "      <td>OUT045</td>\n",
       "      <td>2002</td>\n",
       "      <td>NaN</td>\n",
       "      <td>Tier 2</td>\n",
       "      <td>Supermarket Type1</td>\n",
       "    </tr>\n",
       "    <tr>\n",
       "      <th>3528</th>\n",
       "      <td>FDY16</td>\n",
       "      <td>18.35</td>\n",
       "      <td>Regular</td>\n",
       "      <td>0.092150</td>\n",
       "      <td>Food</td>\n",
       "      <td>184.8266</td>\n",
       "      <td>OUT013</td>\n",
       "      <td>1987</td>\n",
       "      <td>High</td>\n",
       "      <td>Tier 3</td>\n",
       "      <td>Supermarket Type1</td>\n",
       "    </tr>\n",
       "  </tbody>\n",
       "</table>\n",
       "</div>"
      ],
      "text/plain": [
       "     Item_Identifier  Item_Weight Item_Fat_Content  Item_Visibility  \\\n",
       "1921           FDN08         7.72          Regular         0.147904   \n",
       "655            NCJ42        19.75          Low Fat         0.014301   \n",
       "2229           FDY47          NaN          Regular         0.054221   \n",
       "2537           FDN45        19.35          Low Fat         0.118342   \n",
       "3528           FDY16        18.35          Regular         0.092150   \n",
       "\n",
       "            Item_Type  Item_MRP Outlet_Identifier  Outlet_Establishment_Year  \\\n",
       "1921             Food  116.6466            OUT010                       1998   \n",
       "655   Non_Consumables  103.0332            OUT046                       1997   \n",
       "2229             Food  129.1310            OUT027                       1985   \n",
       "2537             Food  222.6088            OUT045                       2002   \n",
       "3528             Food  184.8266            OUT013                       1987   \n",
       "\n",
       "     Outlet_Size Outlet_Location_Type        Outlet_Type  \n",
       "1921         NaN               Tier 3      Grocery Store  \n",
       "655        Small               Tier 1  Supermarket Type1  \n",
       "2229      Medium               Tier 3  Supermarket Type3  \n",
       "2537         NaN               Tier 2  Supermarket Type1  \n",
       "3528        High               Tier 3  Supermarket Type1  "
      ]
     },
     "execution_count": 37,
     "metadata": {},
     "output_type": "execute_result"
    }
   ],
   "source": [
    "x_train_c= create_item_type(x_train_c)\n",
    "x_train_c.head()"
   ]
  },
  {
   "cell_type": "code",
   "execution_count": 38,
   "id": "354dfabe-6f78-42bc-ad96-92b50e8efb8c",
   "metadata": {},
   "outputs": [
    {
     "data": {
      "text/plain": [
       "Item_Identifier                 0\n",
       "Item_Weight                  1023\n",
       "Item_Fat_Content                0\n",
       "Item_Visibility                 0\n",
       "Item_Type                       0\n",
       "Item_MRP                        0\n",
       "Outlet_Identifier               0\n",
       "Outlet_Establishment_Year       0\n",
       "Outlet_Size                  1690\n",
       "Outlet_Location_Type            0\n",
       "Outlet_Type                     0\n",
       "dtype: int64"
      ]
     },
     "execution_count": 38,
     "metadata": {},
     "output_type": "execute_result"
    }
   ],
   "source": [
    "x_train_c.isnull().sum()"
   ]
  },
  {
   "cell_type": "code",
   "execution_count": 39,
   "id": "1f38ed98-4d34-4944-bf4a-5a746236f348",
   "metadata": {},
   "outputs": [
    {
     "data": {
      "text/html": [
       "<div>\n",
       "<style scoped>\n",
       "    .dataframe tbody tr th:only-of-type {\n",
       "        vertical-align: middle;\n",
       "    }\n",
       "\n",
       "    .dataframe tbody tr th {\n",
       "        vertical-align: top;\n",
       "    }\n",
       "\n",
       "    .dataframe thead th {\n",
       "        text-align: right;\n",
       "    }\n",
       "</style>\n",
       "<table border=\"1\" class=\"dataframe\">\n",
       "  <thead>\n",
       "    <tr style=\"text-align: right;\">\n",
       "      <th></th>\n",
       "      <th>Item_Identifier</th>\n",
       "      <th>Item_Weight</th>\n",
       "    </tr>\n",
       "  </thead>\n",
       "  <tbody>\n",
       "    <tr>\n",
       "      <th>1245</th>\n",
       "      <td>DRA12</td>\n",
       "      <td>11.60</td>\n",
       "    </tr>\n",
       "    <tr>\n",
       "      <th>4900</th>\n",
       "      <td>DRA24</td>\n",
       "      <td>19.35</td>\n",
       "    </tr>\n",
       "    <tr>\n",
       "      <th>6057</th>\n",
       "      <td>DRA59</td>\n",
       "      <td>NaN</td>\n",
       "    </tr>\n",
       "    <tr>\n",
       "      <th>1876</th>\n",
       "      <td>DRA59</td>\n",
       "      <td>8.27</td>\n",
       "    </tr>\n",
       "    <tr>\n",
       "      <th>3733</th>\n",
       "      <td>DRB01</td>\n",
       "      <td>NaN</td>\n",
       "    </tr>\n",
       "    <tr>\n",
       "      <th>...</th>\n",
       "      <td>...</td>\n",
       "      <td>...</td>\n",
       "    </tr>\n",
       "    <tr>\n",
       "      <th>411</th>\n",
       "      <td>NCZ42</td>\n",
       "      <td>10.50</td>\n",
       "    </tr>\n",
       "    <tr>\n",
       "      <th>2084</th>\n",
       "      <td>NCZ53</td>\n",
       "      <td>NaN</td>\n",
       "    </tr>\n",
       "    <tr>\n",
       "      <th>6879</th>\n",
       "      <td>NCZ53</td>\n",
       "      <td>9.60</td>\n",
       "    </tr>\n",
       "    <tr>\n",
       "      <th>7926</th>\n",
       "      <td>NCZ54</td>\n",
       "      <td>14.65</td>\n",
       "    </tr>\n",
       "    <tr>\n",
       "      <th>1896</th>\n",
       "      <td>NCZ54</td>\n",
       "      <td>NaN</td>\n",
       "    </tr>\n",
       "  </tbody>\n",
       "</table>\n",
       "<p>2401 rows × 2 columns</p>\n",
       "</div>"
      ],
      "text/plain": [
       "     Item_Identifier  Item_Weight\n",
       "1245           DRA12        11.60\n",
       "4900           DRA24        19.35\n",
       "6057           DRA59          NaN\n",
       "1876           DRA59         8.27\n",
       "3733           DRB01          NaN\n",
       "...              ...          ...\n",
       "411            NCZ42        10.50\n",
       "2084           NCZ53          NaN\n",
       "6879           NCZ53         9.60\n",
       "7926           NCZ54        14.65\n",
       "1896           NCZ54          NaN\n",
       "\n",
       "[2401 rows x 2 columns]"
      ]
     },
     "execution_count": 39,
     "metadata": {},
     "output_type": "execute_result"
    }
   ],
   "source": [
    "x_train_c[['Item_Identifier','Item_Weight']].drop_duplicates().sort_values(by=['Item_Identifier'])"
   ]
  },
  {
   "cell_type": "code",
   "execution_count": 40,
   "id": "8162c3a0-f552-446b-bb55-8cab4773355f",
   "metadata": {},
   "outputs": [
    {
     "data": {
      "text/html": [
       "<div>\n",
       "<style scoped>\n",
       "    .dataframe tbody tr th:only-of-type {\n",
       "        vertical-align: middle;\n",
       "    }\n",
       "\n",
       "    .dataframe tbody tr th {\n",
       "        vertical-align: top;\n",
       "    }\n",
       "\n",
       "    .dataframe thead th {\n",
       "        text-align: right;\n",
       "    }\n",
       "</style>\n",
       "<table border=\"1\" class=\"dataframe\">\n",
       "  <thead>\n",
       "    <tr style=\"text-align: right;\">\n",
       "      <th></th>\n",
       "      <th>Item_Type</th>\n",
       "      <th>Item_Weight</th>\n",
       "    </tr>\n",
       "  </thead>\n",
       "  <tbody>\n",
       "    <tr>\n",
       "      <th>2796</th>\n",
       "      <td>Drink</td>\n",
       "      <td>5.730</td>\n",
       "    </tr>\n",
       "    <tr>\n",
       "      <th>998</th>\n",
       "      <td>Drink</td>\n",
       "      <td>20.250</td>\n",
       "    </tr>\n",
       "    <tr>\n",
       "      <th>670</th>\n",
       "      <td>Drink</td>\n",
       "      <td>8.395</td>\n",
       "    </tr>\n",
       "    <tr>\n",
       "      <th>6091</th>\n",
       "      <td>Drink</td>\n",
       "      <td>13.500</td>\n",
       "    </tr>\n",
       "    <tr>\n",
       "      <th>3438</th>\n",
       "      <td>Drink</td>\n",
       "      <td>13.850</td>\n",
       "    </tr>\n",
       "    <tr>\n",
       "      <th>...</th>\n",
       "      <td>...</td>\n",
       "      <td>...</td>\n",
       "    </tr>\n",
       "    <tr>\n",
       "      <th>6624</th>\n",
       "      <td>Non_Consumables</td>\n",
       "      <td>12.600</td>\n",
       "    </tr>\n",
       "    <tr>\n",
       "      <th>6191</th>\n",
       "      <td>Non_Consumables</td>\n",
       "      <td>8.880</td>\n",
       "    </tr>\n",
       "    <tr>\n",
       "      <th>1911</th>\n",
       "      <td>Non_Consumables</td>\n",
       "      <td>19.850</td>\n",
       "    </tr>\n",
       "    <tr>\n",
       "      <th>135</th>\n",
       "      <td>Non_Consumables</td>\n",
       "      <td>7.235</td>\n",
       "    </tr>\n",
       "    <tr>\n",
       "      <th>6255</th>\n",
       "      <td>Non_Consumables</td>\n",
       "      <td>8.970</td>\n",
       "    </tr>\n",
       "  </tbody>\n",
       "</table>\n",
       "<p>641 rows × 2 columns</p>\n",
       "</div>"
      ],
      "text/plain": [
       "            Item_Type  Item_Weight\n",
       "2796            Drink        5.730\n",
       "998             Drink       20.250\n",
       "670             Drink        8.395\n",
       "6091            Drink       13.500\n",
       "3438            Drink       13.850\n",
       "...               ...          ...\n",
       "6624  Non_Consumables       12.600\n",
       "6191  Non_Consumables        8.880\n",
       "1911  Non_Consumables       19.850\n",
       "135   Non_Consumables        7.235\n",
       "6255  Non_Consumables        8.970\n",
       "\n",
       "[641 rows x 2 columns]"
      ]
     },
     "execution_count": 40,
     "metadata": {},
     "output_type": "execute_result"
    }
   ],
   "source": [
    "x_train_c[['Item_Type','Item_Weight']].drop_duplicates().sort_values(by=['Item_Type'])"
   ]
  },
  {
   "cell_type": "code",
   "execution_count": 41,
   "id": "86223d2f-5abf-4651-9151-78a5c569b2d0",
   "metadata": {},
   "outputs": [
    {
     "data": {
      "text/plain": [
       "[('DRA12', 11.6),\n",
       " ('DRA24', 19.35),\n",
       " ('DRA59', 8.27),\n",
       " ('DRB01', 7.39),\n",
       " ('DRB13', 6.115),\n",
       " ('DRB24', 8.785),\n",
       " ('DRB25', 12.300000000000002),\n",
       " ('DRB48', 16.75),\n",
       " ('DRC01', 5.92),\n",
       " ('DRC12', 17.85)]"
      ]
     },
     "execution_count": 41,
     "metadata": {},
     "output_type": "execute_result"
    }
   ],
   "source": [
    "ITEM_ID_WEIGHT_PIVOT= x_train_c.pivot_table(values='Item_Weight', index='Item_Identifier').reset_index()\n",
    "ITEM_ID_WEIGHT_MAPPING= dict(zip(ITEM_ID_WEIGHT_PIVOT['Item_Identifier'], ITEM_ID_WEIGHT_PIVOT['Item_Weight']))\n",
    "list(ITEM_ID_WEIGHT_MAPPING.items())[:10]"
   ]
  },
  {
   "cell_type": "code",
   "execution_count": 42,
   "id": "fb6022bb-1781-4886-aaf1-ce4ce46c1344",
   "metadata": {},
   "outputs": [
    {
     "data": {
      "text/plain": [
       "dict_items([('Drink', 11.8), ('Food', 12.8), ('Non_Consumables', 13.05)])"
      ]
     },
     "execution_count": 42,
     "metadata": {},
     "output_type": "execute_result"
    }
   ],
   "source": [
    "ITEM_ID_WEIGHT_PIVOT=x_train_c.pivot_table(values='Item_Weight',index='Item_Type', aggfunc='median').reset_index()\n",
    "ITEM_ID_WEIGHT_MAPPING= dict(zip(ITEM_ID_WEIGHT_PIVOT['Item_Type'], ITEM_ID_WEIGHT_PIVOT['Item_Weight']))\n",
    "ITEM_ID_WEIGHT_MAPPING.items()"
   ]
  },
  {
   "cell_type": "code",
   "execution_count": null,
   "id": "343fef43-53d9-4120-9383-5eb265f49c6b",
   "metadata": {},
   "outputs": [],
   "source": []
  }
 ],
 "metadata": {
  "kernelspec": {
   "display_name": "Python 3 (ipykernel)",
   "language": "python",
   "name": "python3"
  },
  "language_info": {
   "codemirror_mode": {
    "name": "ipython",
    "version": 3
   },
   "file_extension": ".py",
   "mimetype": "text/x-python",
   "name": "python",
   "nbconvert_exporter": "python",
   "pygments_lexer": "ipython3",
   "version": "3.12.7"
  }
 },
 "nbformat": 4,
 "nbformat_minor": 5
}
